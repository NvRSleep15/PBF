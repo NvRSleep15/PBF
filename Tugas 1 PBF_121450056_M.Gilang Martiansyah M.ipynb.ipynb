{
  "nbformat": 4,
  "nbformat_minor": 0,
  "metadata": {
    "colab": {
      "provenance": []
    },
    "kernelspec": {
      "name": "python3",
      "display_name": "Python 3"
    },
    "language_info": {
      "name": "python"
    }
  },
  "cells": [
    {
      "cell_type": "markdown",
      "source": [
        "# 1. Jelaskan menggunakan tabel mengenai kelebihan dan kekurangan paradigma Procedural dibandingkan dengan Object Oriented (minimal 3) !"
      ],
      "metadata": {
        "id": "qy_fw_5zgJQl"
      }
    },
    {
      "cell_type": "markdown",
      "source": [
        "## Kekurangan Procedural dibandingkan Object Oriented\n",
        "<table>\n",
        "        <tr>\n",
        "            <th bgcolor=\"green\">Procedural</th>\n",
        "            <th bgcolor=\"green\">Object Oriented</th>\n",
        "        </tr>\n",
        "        <tr>\n",
        "            <td>Procedural kurang aman dibandingkan Object Oriented</td>\n",
        "            <td>Object Oriented lebih aman daripada Procedural.</td>\n",
        "        </tr>\n",
        "        <tr>\n",
        "            <td>Prosedural tidak memiliki access modifiers</td>\n",
        "            <td>OOP memiliki access modifiers seperti public, protected, dan private.</td>\n",
        "        </tr>\n",
        "        <tr>\n",
        "            <td>Sulit dimodifikasi</td>\n",
        "            <td>Lebih mudah dimodifikasi</td>\n",
        "        </tr>\n",
        "         <tr>\n",
        "            <td>Kurang cocok untuk program/aplikasi complex</td>\n",
        "            <td>Cocok untuk program/aplikasi complex</td>\n",
        "        </tr>\n",
        "        <tr>\n",
        "            <td>Data bersifat pasif</td>\n",
        "            <td>Objek bersifat aktif</td>\n",
        "        </tr>\n",
        "</table>\n",
        "\n",
        "## Kelebihan Procedural dibandingkan Object Oriented\n",
        "<table>\n",
        "        <tr>\n",
        "            <th bgcolor=\"green\">Procedural</th>\n",
        "            <th bgcolor=\"green\">Object Oriented</th>\n",
        "        </tr>\n",
        "        <tr>\n",
        "            <td>Cocok untuk program/aplikasi sederhana</td>\n",
        "            <td>Kurang cocok untuk program/aplikasi sederhana</td>\n",
        "        </tr>\n",
        "        <tr>\n",
        "            <td>Membutuhkan memori lebih sedikit dibanding Object Oriented</td>\n",
        "            <td>Membutuhkan memori lebih besar dibanding Procedural</td>\n",
        "        </tr>\n",
        "        <tr>\n",
        "            <td>Lebih mudah dipahami dibandingkan Object Oriented</td>\n",
        "            <td>Lebih sulit dipahami dibandingkan Procedural</td>\n",
        "        </tr>\n",
        "</table>"
      ],
      "metadata": {
        "id": "_N948u0IhT6W"
      }
    },
    {
      "cell_type": "markdown",
      "source": [
        "# 2. Jelaskan menggunakan tabel mengenai kelebihan dan kekurangan paradigma Object Oriented dibandingkan dengan Functional (minimal 3) !"
      ],
      "metadata": {
        "id": "G6LQ0NecwE9h"
      }
    },
    {
      "cell_type": "markdown",
      "source": [
        "## Kekurangan Object Oriented dibandingkan Functional\n",
        "<table>\n",
        "        <tr>\n",
        "            <th bgcolor=\"green\">Object Oriented</th>\n",
        "            <th bgcolor=\"green\">Functional</th>\n",
        "        </tr>\n",
        "        <tr>\n",
        "            <td>Tidak support parallel programming</td>\n",
        "            <td>Support parallel programming</td>\n",
        "        </tr>\n",
        "        <tr>\n",
        "            <td>Kode yang lebih banyak dibandingkan Functional </td>\n",
        "            <td>Kode yang lebih sedikit dibandingkan Object Oriented</td>\n",
        "        </tr>\n",
        "        <tr>\n",
        "            <td>Kurang cocok digunakan untuk tugas tertentu (yang penting hasil)<br>dibandingkan Functional</td>\n",
        "            <td>Lebih cocok digunakan untuk tugas tertentu</td>\n",
        "        </tr>\n",
        "        <tr>\n",
        "            <td>Membutuhkan memori lebih besar dibanding Functional</td>\n",
        "            <td>Membutuhkan memori lebih kecil dibanding Object Oriented</td>\n",
        "        </tr>\n",
        "      \n",
        "</table>\n",
        "\n",
        "\n",
        "\n",
        "## Kelebihan Object Oriented dibandingkan Functional\n",
        "<table>\n",
        "        <tr>\n",
        "            <th bgcolor=\"green\">Object Oriented</th>\n",
        "            <th bgcolor=\"green\">Functional</th>\n",
        "        </tr>\n",
        "        <tr>\n",
        "            <td>Lebih mudah dipahami daripada Functional</td>\n",
        "            <td>Lebih susah dipahami daripada Object Oriented</td>\n",
        "        </tr>\n",
        "        <tr>\n",
        "            <td>Data bersifat mutable</td>\n",
        "            <td>Data bersifat imutable</td>\n",
        "        </tr>\n",
        "        <tr>\n",
        "            <td>Lebih cocok untuk project besar</td>\n",
        "            <td>Kurang cocok untuk project besar dibandingkan Object Oriented</td>\n",
        "        </tr>\n",
        "         <tr>\n",
        "            <td>Algoritma lebih jelas dibanding Functional</td>\n",
        "            <td>Algoritma kurang jelas</td>\n",
        "        </tr>\n",
        "</table>"
      ],
      "metadata": {
        "id": "GT2_-Sh5wgOC"
      }
    },
    {
      "cell_type": "markdown",
      "source": [
        "# 3. Jelaskan menggunakan tabel mengenai kelebihan dan kekurangan paradigma Procedural dibandingkan dengan Functional (minimal 3) !"
      ],
      "metadata": {
        "id": "hj6Jkw0x1zBz"
      }
    },
    {
      "cell_type": "markdown",
      "source": [
        "## Kekurangan Procedural dibandingkan Functional\n",
        "<table>\n",
        "        <tr>\n",
        "            <th bgcolor=\"green\">Procedural</th>\n",
        "            <th bgcolor=\"green\">Functional</th>\n",
        "        </tr>\n",
        "        <tr>\n",
        "            <td>Kurang cocok digunakan untuk tugas tertentu (yang penting hasil)<br>dibandingkan Functional</td>\n",
        "            <td>Lebih cocok digunakan untuk tugas tertentu</td>\n",
        "        </tr>\n",
        "        <tr>\n",
        "            <td>Jarang menggunakan fungsi</td>\n",
        "            <td>Lebih sering menggunakan fungsi sehingga kode lebih sedikit</td>\n",
        "        </tr>\n",
        "        <tr>\n",
        "            <td>Debugging lebih susah dibanding functional</td>\n",
        "            <td>Debugging lebih mudah</td>\n",
        "        </tr>\n",
        "</table>\n",
        "\n",
        "## Kelebihan Procedural dibandingkan Functional\n",
        "<table>\n",
        "        <tr>\n",
        "            <th bgcolor=\"green\">Procedural</th>\n",
        "            <th bgcolor=\"green\">Functional</th>\n",
        "        </tr>\n",
        "        <tr>\n",
        "            <td>Lebih mudah dipahami</td>\n",
        "            <td>Lebih sulit dipahami</td>\n",
        "        </tr>\n",
        "        <tr>\n",
        "            <td>Data bersifat mutable</td>\n",
        "            <td>Data bersifat imutable</td>\n",
        "        </tr>\n",
        "        <tr>\n",
        "            <td>Penulisan loop yang normal</td>\n",
        "            <td>Penulisan loop yang mengintimidasi :)</td>\n",
        "        </tr>\n",
        "</table>"
      ],
      "metadata": {
        "id": "YlhE3r7F1-8i"
      }
    },
    {
      "cell_type": "markdown",
      "source": [
        "# 4. Apa yang dimaksud dengan pure functional programming language?"
      ],
      "metadata": {
        "id": "Ucf-TEBc6Xvc"
      }
    },
    {
      "cell_type": "markdown",
      "source": [
        "##Pure functional programming language adalah di mana pada fungsinya menerima parameter sebagai input dan mengembalikan nilai, tanpa mengubah nilai dari variabel manapun."
      ],
      "metadata": {
        "id": "1hFaKDZw8HeP"
      }
    },
    {
      "cell_type": "markdown",
      "source": [
        "#5. Dari bahasa pemrograman FP di slide sebelumnya ( slide 14 ) , manakah yang termasuk pure functional programming language?\n"
      ],
      "metadata": {
        "id": "5dfB6_7e8r_u"
      }
    },
    {
      "cell_type": "markdown",
      "source": [
        "## Bahasa yang termasuk pure functional programming adalah Lisp, Haskell, dan Standard ML"
      ],
      "metadata": {
        "id": "agUXWyTd9jEd"
      }
    },
    {
      "cell_type": "markdown",
      "source": [
        "#6. Membuat program Simple Password encryption, dengan ketentuan"
      ],
      "metadata": {
        "id": "afcTLKB8_ba9"
      }
    },
    {
      "cell_type": "markdown",
      "source": [
        "##1. Input password bertipe string dengan batasan panjang password 100 karakter\n",
        "##2. Setiap karakter dari string tersebut diubah menjadi ASCII value\n",
        "##3. Kemudian setiap ASCII value tersebut dikembangkan menjadi 3 value dengan dilakukan operasi berikut:\n",
        "1. Value pertama dibagi dengan integer 26 kemudian dibulatkan dan dijumlahkan dengan 80 kemudian diubah kembali menjadi karakter\n",
        "2. Value kedua dihitung sisa bagi dengan 26 kemudian dijumlahkan dengan 80 kemudian diubah kembali menjadi karakter\n",
        "3. Value ketiga adalah karakter '+' jika value pertama lebih besar dari value kedua, atau value ketiga adalah karakter '-' jika value pertama tidak lebih besar dari value kedua\n",
        "4. Deretkan value pertama, kedua dan ketiga untuk setiap karakter dalam password tersebut sehingga didapatkan password dalam bentuk baru\n"
      ],
      "metadata": {
        "id": "JXuBNijb9yfM"
      }
    },
    {
      "cell_type": "markdown",
      "source": [
        "##1. Bantulah user tersebut dengan membuatkan sebuah program yang secara otomatis mengubah password yang di input menjadi terenkripsi sesuai aturan tersebut!\n"
      ],
      "metadata": {
        "id": "Kvb84MPj_ERW"
      }
    },
    {
      "cell_type": "code",
      "execution_count": 89,
      "metadata": {
        "id": "CLtgmQg55fsZ"
      },
      "outputs": [],
      "source": [
        "# fungsi enkripsi\n",
        "def enkripsi(password):\n",
        "  # jika panjang karakter lebih dari 100\n",
        "  if len(password) > 100 or len(password) == 0:\n",
        "    print(\"Enter 1-100 characters\")\n",
        "  else:\n",
        "    # merubah setiap karakter menjadi kode ascii dan ditampung dalam list\n",
        "    ascii = [str(ord(i)) for i in password]\n",
        "    # membuat 3 value dari setiap kode ascii dan menggabungkan semuanya\n",
        "    enkri = ''.join(chr((int(j)//26)+80)+chr((int(j)%26)+80)+('+' if (int(j)//26)+80 > (int(j)%26)+80 else '-') for j in ascii)\n",
        "    # menampilkan hasil enkripsi\n",
        "    print(\"The encryption password is: \", enkri)\n",
        "\n",
        "# fungsi dekripsi\n",
        "def dekripsi(password):\n",
        "  # split 3 value \n",
        "  split_ps = [(password[k:k+3]) for k in range(0, len(password), 3)]\n",
        "  # membuat 3 value kembali ke kode ascii lalu ke karakter asli dan menggabungkan semuanya\n",
        "  dekri = ''.join(chr(((ord(list(z)[0])-80)*26)+(ord(list(z)[1])-80)) for z in split_ps)\n",
        "  # menampilkan hasil dekripsi\n",
        "  print(\"The password is: \", dekri)\n"
      ]
    },
    {
      "cell_type": "markdown",
      "source": [
        "##2. Apa output yang dihasilkan dari program tersebut jika input password adalah 'anakanakcerdas2020' ?"
      ],
      "metadata": {
        "id": "lODks5r6_z8u"
      }
    },
    {
      "cell_type": "code",
      "source": [
        "# enkripsi\n",
        "password = input(\"Enter Password: \")\n",
        "enkripsi(password)"
      ],
      "metadata": {
        "colab": {
          "base_uri": "https://localhost:8080/"
        },
        "id": "-oS0h-irUvoS",
        "outputId": "208a6991-52bb-4ff6-e68c-331c4c675d1e"
      },
      "execution_count": 90,
      "outputs": [
        {
          "output_type": "stream",
          "name": "stdout",
          "text": [
            "Enter Password: anakanakcerdas2020\n",
            "The encryption password is:  Sc-TV-Sc-TS+Sc-TV-Sc-TS+Se-Sg-TZ-Sf-Sc-T[-Qh-Qf-Qh-Qf-\n"
          ]
        }
      ]
    },
    {
      "cell_type": "markdown",
      "source": [
        "##3. (Bonus) User tersebut lupa password asli yang dia inputkan ke dalam program tersebut, password setelah dienkripsi adalah 'Sc-TV-Sc-TS+T[-Sc-TQ+TV-T[-Sf-Sc-T\\-Sc-Qh-Qf-Qh-Qf-TS+Sg-Se-Sg-'. Bantulah user tersebut mendapatkan password asli nya!"
      ],
      "metadata": {
        "id": "pwpV1I8s_jCV"
      }
    },
    {
      "cell_type": "code",
      "source": [
        "# dekripsi\n",
        "enk = input(\"Enter the encryption password: \")\n",
        "dekripsi(enk)"
      ],
      "metadata": {
        "colab": {
          "base_uri": "https://localhost:8080/"
        },
        "id": "ZPv7Wil2Uctl",
        "outputId": "9c5f4d55-4599-45d9-c30e-330e62d513ad"
      },
      "execution_count": 91,
      "outputs": [
        {
          "output_type": "stream",
          "name": "stdout",
          "text": [
            "Enter the encryption password: Sc-TV-Sc-TS+T[-Sc-TQ+TV-T[-Sf-Sc-T\\-Sc-Qh-Qf-Qh-Qf-TS+Sg-Se-Sg-\n",
            "The password is:  anaksainsdata2020kece\n"
          ]
        }
      ]
    }
  ]
}
